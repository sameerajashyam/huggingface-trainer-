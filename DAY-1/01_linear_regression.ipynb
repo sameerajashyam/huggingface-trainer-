{
  "nbformat": 4,
  "nbformat_minor": 0,
  "metadata": {
    "colab": {
      "provenance": []
    },
    "kernelspec": {
      "name": "python3",
      "display_name": "Python 3"
    },
    "language_info": {
      "name": "python"
    }
  },
  "cells": [
    {
      "cell_type": "code",
      "execution_count": 1,
      "metadata": {
        "id": "9eCIcKAl1NcA"
      },
      "outputs": [],
      "source": [
        "import torch\n",
        "import torch.nn as nn\n",
        "import matplotlib.pyplot as plt\n"
      ]
    },
    {
      "cell_type": "code",
      "source": [
        "#step 1 : Data\n",
        "x=torch.randn(100,1)\n",
        "print(list(x))"
      ],
      "metadata": {
        "colab": {
          "base_uri": "https://localhost:8080/"
        },
        "id": "6S5XUMZD1XA_",
        "outputId": "741a9ce1-cc72-4f85-a6fe-765da43f28f7"
      },
      "execution_count": 2,
      "outputs": [
        {
          "output_type": "stream",
          "name": "stdout",
          "text": [
            "[tensor([0.2105]), tensor([-0.3582]), tensor([0.5025]), tensor([1.3380]), tensor([0.7672]), tensor([0.0145]), tensor([0.7549]), tensor([-0.3768]), tensor([-0.6291]), tensor([0.6623]), tensor([0.6539]), tensor([-0.0377]), tensor([1.7859]), tensor([-1.6950]), tensor([-2.0173]), tensor([1.3591]), tensor([-1.5031]), tensor([3.5626]), tensor([1.9227]), tensor([-0.1769]), tensor([-1.5029]), tensor([-0.0180]), tensor([0.3024]), tensor([-0.4448]), tensor([-0.2620]), tensor([0.5427]), tensor([-1.1394]), tensor([0.5102]), tensor([-1.7772]), tensor([-1.4334]), tensor([0.1424]), tensor([-0.1454]), tensor([2.5788]), tensor([-1.1234]), tensor([-0.4719]), tensor([1.0517]), tensor([-1.0887]), tensor([-0.4590]), tensor([-0.3125]), tensor([1.1087]), tensor([0.5429]), tensor([-1.5232]), tensor([0.6773]), tensor([1.4200]), tensor([-0.3231]), tensor([0.4296]), tensor([0.2164]), tensor([2.3441]), tensor([-1.7447]), tensor([1.2880]), tensor([-0.9569]), tensor([-0.0465]), tensor([-0.1643]), tensor([-0.4804]), tensor([-1.3491]), tensor([-1.0931]), tensor([0.2346]), tensor([-2.4819]), tensor([-0.0390]), tensor([1.4796]), tensor([0.7787]), tensor([1.1961]), tensor([0.2420]), tensor([-1.6461]), tensor([1.3986]), tensor([0.3193]), tensor([-1.3322]), tensor([-0.1520]), tensor([0.0765]), tensor([1.8744]), tensor([1.0238]), tensor([-0.6236]), tensor([-0.4065]), tensor([0.1886]), tensor([1.4818]), tensor([-0.0869]), tensor([1.4795]), tensor([-0.0825]), tensor([-1.7673]), tensor([-0.0803]), tensor([0.0216]), tensor([-0.3848]), tensor([1.6126]), tensor([-0.0574]), tensor([-0.0631]), tensor([-1.3699]), tensor([-1.0057]), tensor([-0.2148]), tensor([-1.0662]), tensor([1.3531]), tensor([-1.3499]), tensor([-0.9358]), tensor([-1.2500]), tensor([0.1873]), tensor([0.8892]), tensor([-1.3968]), tensor([-1.2981]), tensor([-0.4622]), tensor([0.2582]), tensor([0.8851])]\n"
          ]
        }
      ]
    },
    {
      "cell_type": "code",
      "source": [
        "y=3*x+1+0.01*torch.randn(100,1)\n",
        "print(list(y))"
      ],
      "metadata": {
        "colab": {
          "base_uri": "https://localhost:8080/"
        },
        "id": "f9mWqcrK1YtH",
        "outputId": "27e2eb1f-292b-48a7-c7d9-500518ea0307"
      },
      "execution_count": 3,
      "outputs": [
        {
          "output_type": "stream",
          "name": "stdout",
          "text": [
            "[tensor([1.6442]), tensor([-0.0594]), tensor([2.5159]), tensor([5.0126]), tensor([3.3209]), tensor([1.0354]), tensor([3.2700]), tensor([-0.1384]), tensor([-0.9003]), tensor([3.0070]), tensor([2.9408]), tensor([0.8608]), tensor([6.3548]), tensor([-4.0750]), tensor([-5.0378]), tensor([5.0722]), tensor([-3.4957]), tensor([11.7042]), tensor([6.7644]), tensor([0.4680]), tensor([-3.5073]), tensor([0.9547]), tensor([1.9091]), tensor([-0.3347]), tensor([0.2350]), tensor([2.6430]), tensor([-2.4125]), tensor([2.5380]), tensor([-4.3318]), tensor([-3.2984]), tensor([1.4343]), tensor([0.5721]), tensor([8.7430]), tensor([-2.3611]), tensor([-0.4101]), tensor([4.1799]), tensor([-2.2683]), tensor([-0.3639]), tensor([0.0658]), tensor([4.3200]), tensor([2.6209]), tensor([-3.5764]), tensor([3.0335]), tensor([5.2616]), tensor([0.0220]), tensor([2.2790]), tensor([1.6361]), tensor([8.0405]), tensor([-4.2153]), tensor([4.8597]), tensor([-1.8712]), tensor([0.8619]), tensor([0.5237]), tensor([-0.4363]), tensor([-3.0700]), tensor([-2.2642]), tensor([1.6823]), tensor([-6.4538]), tensor([0.8660]), tensor([5.4323]), tensor([3.3268]), tensor([4.5949]), tensor([1.7352]), tensor([-3.9328]), tensor([5.1814]), tensor([1.9627]), tensor([-2.9886]), tensor([0.5500]), tensor([1.2149]), tensor([6.6334]), tensor([4.0716]), tensor([-0.8636]), tensor([-0.2343]), tensor([1.5718]), tensor([5.4467]), tensor([0.7366]), tensor([5.4422]), tensor([0.7578]), tensor([-4.3045]), tensor([0.7609]), tensor([1.0763]), tensor([-0.1501]), tensor([5.8305]), tensor([0.8332]), tensor([0.8128]), tensor([-3.1086]), tensor([-1.9971]), tensor([0.3825]), tensor([-2.1860]), tensor([5.0740]), tensor([-3.0493]), tensor([-1.8205]), tensor([-2.7593]), tensor([1.5467]), tensor([3.6740]), tensor([-3.2045]), tensor([-2.8969]), tensor([-0.3569]), tensor([1.7557]), tensor([3.6503])]\n"
          ]
        }
      ]
    },
    {
      "cell_type": "code",
      "source": [
        "#step 2\n",
        "class Model(nn.Module):\n",
        "  def  __init__(self):\n",
        "    super().__init__()\n",
        "    self.line=nn.Linear(1,1)\n",
        "  def forward(self,x):\n",
        "    return self.line(x)\n",
        "model=Model()\n"
      ],
      "metadata": {
        "id": "5JiD-f8o17l6"
      },
      "execution_count": 4,
      "outputs": []
    },
    {
      "cell_type": "code",
      "source": [
        "#step 3:Loss\n",
        "loss_fn=nn.MSELoss()"
      ],
      "metadata": {
        "id": "yzHhGadA2KYL"
      },
      "execution_count": 5,
      "outputs": []
    },
    {
      "cell_type": "code",
      "source": [
        "# Step 4: Training loop\n",
        "losses = []\n",
        "for epoch in range(50):\n",
        "    y_pred = model(x)\n",
        "    loss = loss_fn(y_pred, y)\n",
        "    losses.append(loss.item())\n",
        "\n",
        "    model.zero_grad()\n",
        "    loss.backward()\n",
        "\n",
        "    with torch.no_grad():\n",
        "        for param in model.parameters():\n",
        "            param -= 0.01 * param.grad\n",
        "\n",
        "    print(f\"Epoch {epoch+1}, Loss: {loss.item():.4f}\")"
      ],
      "metadata": {
        "colab": {
          "base_uri": "https://localhost:8080/"
        },
        "id": "LDNplAx12c82",
        "outputId": "c8f4c3fa-b090-4e92-d996-e0d06322be6e"
      },
      "execution_count": 6,
      "outputs": [
        {
          "output_type": "stream",
          "name": "stdout",
          "text": [
            "Epoch 1, Loss: 20.0903\n",
            "Epoch 2, Loss: 19.1038\n",
            "Epoch 3, Loss: 18.1658\n",
            "Epoch 4, Loss: 17.2739\n",
            "Epoch 5, Loss: 16.4259\n",
            "Epoch 6, Loss: 15.6195\n",
            "Epoch 7, Loss: 14.8528\n",
            "Epoch 8, Loss: 14.1238\n",
            "Epoch 9, Loss: 13.4306\n",
            "Epoch 10, Loss: 12.7715\n",
            "Epoch 11, Loss: 12.1448\n",
            "Epoch 12, Loss: 11.5489\n",
            "Epoch 13, Loss: 10.9822\n",
            "Epoch 14, Loss: 10.4434\n",
            "Epoch 15, Loss: 9.9311\n",
            "Epoch 16, Loss: 9.4439\n",
            "Epoch 17, Loss: 8.9807\n",
            "Epoch 18, Loss: 8.5402\n",
            "Epoch 19, Loss: 8.1214\n",
            "Epoch 20, Loss: 7.7231\n",
            "Epoch 21, Loss: 7.3444\n",
            "Epoch 22, Loss: 6.9843\n",
            "Epoch 23, Loss: 6.6419\n",
            "Epoch 24, Loss: 6.3163\n",
            "Epoch 25, Loss: 6.0067\n",
            "Epoch 26, Loss: 5.7123\n",
            "Epoch 27, Loss: 5.4323\n",
            "Epoch 28, Loss: 5.1661\n",
            "Epoch 29, Loss: 4.9130\n",
            "Epoch 30, Loss: 4.6723\n",
            "Epoch 31, Loss: 4.4434\n",
            "Epoch 32, Loss: 4.2257\n",
            "Epoch 33, Loss: 4.0187\n",
            "Epoch 34, Loss: 3.8219\n",
            "Epoch 35, Loss: 3.6347\n",
            "Epoch 36, Loss: 3.4567\n",
            "Epoch 37, Loss: 3.2874\n",
            "Epoch 38, Loss: 3.1265\n",
            "Epoch 39, Loss: 2.9734\n",
            "Epoch 40, Loss: 2.8279\n",
            "Epoch 41, Loss: 2.6895\n",
            "Epoch 42, Loss: 2.5578\n",
            "Epoch 43, Loss: 2.4327\n",
            "Epoch 44, Loss: 2.3136\n",
            "Epoch 45, Loss: 2.2004\n",
            "Epoch 46, Loss: 2.0928\n",
            "Epoch 47, Loss: 1.9904\n",
            "Epoch 48, Loss: 1.8931\n",
            "Epoch 49, Loss: 1.8005\n",
            "Epoch 50, Loss: 1.7124\n"
          ]
        }
      ]
    },
    {
      "cell_type": "code",
      "source": [
        "# Step 5: Plot\n",
        "plt.plot(losses)\n",
        "plt.xlabel(\"Epoch\")\n",
        "plt.ylabel(\"Loss\")\n",
        "plt.title(\"Learning Curve\")\n",
        "plt.grid(True)\n",
        "plt.savefig(\"day01_learning_curve.png\")\n",
        "plt.show()\n"
      ],
      "metadata": {
        "colab": {
          "base_uri": "https://localhost:8080/",
          "height": 472
        },
        "id": "MaadKwvL27ld",
        "outputId": "0b8101a4-dd91-47cf-dfb0-92adb4d68518"
      },
      "execution_count": 7,
      "outputs": [
        {
          "output_type": "display_data",
          "data": {
            "text/plain": [
              "<Figure size 640x480 with 1 Axes>"
            ],
            "image/png": "[encoded data removed]"
          },
          "metadata": {}
        }
      ]
    },
    {
      "cell_type": "code",
      "source": [],
      "metadata": {
        "id": "ot-e-zs33BMp"
      },
      "execution_count": 7,
      "outputs": []
    }
  ]
}